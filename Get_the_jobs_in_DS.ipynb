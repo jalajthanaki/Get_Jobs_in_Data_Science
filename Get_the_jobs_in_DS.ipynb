{
 "cells": [
  {
   "cell_type": "code",
   "execution_count": 3,
   "metadata": {
    "slideshow": {
     "slide_type": "skip"
    }
   },
   "outputs": [
    {
     "data": {
      "text/html": [
       "\n",
       "<style>\n",
       "\n",
       "div.cell { /* Tunes the space between cells */\n",
       "margin-top:1em;\n",
       "margin-bottom:1em;\n",
       "}\n",
       "\n",
       "div.text_cell_render h1 { /* Main titles bigger, centered */\n",
       "font-size: 2.2em;\n",
       "line-height:1.4em;\n",
       "text-align:center;\n",
       "}\n",
       "\n",
       "div.text_cell_render h2 { /*  Parts names nearer from text */\n",
       "margin-bottom: 0.1em;\n",
       "}\n",
       "\n",
       "\n",
       "div.text_cell_render { /* Customize text cells */\n",
       "font-family: 'Times New Roman';\n",
       "font-size:1.5em;\n",
       "line-height:1.4em;\n",
       "padding-left:3em;\n",
       "padding-right:3em;\n",
       "margin-bottom: -0.4em;\n",
       "}\n",
       "</style>\n"
      ],
      "text/plain": [
       "<IPython.core.display.HTML object>"
      ]
     },
     "execution_count": 3,
     "metadata": {},
     "output_type": "execute_result"
    }
   ],
   "source": [
    "from IPython.core.display import HTML\n",
    "HTML(\"\"\"\n",
    "<style>\n",
    "\n",
    "div.cell { /* Tunes the space between cells */\n",
    "margin-top:1em;\n",
    "margin-bottom:1em;\n",
    "}\n",
    "\n",
    "div.text_cell_render h1 { /* Main titles bigger, centered */\n",
    "font-size: 2.2em;\n",
    "line-height:1.4em;\n",
    "text-align:center;\n",
    "}\n",
    "\n",
    "div.text_cell_render h2 { /*  Parts names nearer from text */\n",
    "margin-bottom: 0.1em;\n",
    "}\n",
    "\n",
    "\n",
    "div.text_cell_render { /* Customize text cells */\n",
    "font-family: 'Times New Roman';\n",
    "font-size:1.5em;\n",
    "line-height:1.4em;\n",
    "padding-left:3em;\n",
    "padding-right:3em;\n",
    "margin-bottom: -0.4em;\n",
    "}\n",
    "</style>\n",
    "\"\"\")"
   ]
  },
  {
   "cell_type": "markdown",
   "metadata": {
    "slideshow": {
     "slide_type": "slide"
    }
   },
   "source": [
    "# Get the job in Data Science"
   ]
  },
  {
   "cell_type": "markdown",
   "metadata": {
    "slideshow": {
     "slide_type": "fragment"
    }
   },
   "source": [
    "<img src=\"https://raw.githubusercontent.com/jalajthanaki/Get_Jobs_in_Data_Science/master/imgs/Figure_0.gif\" \n",
    "align=\"middle\" alt=\"Image_0\" data-canonical-src=\"\" style=\"width:100%;height:100%\">"
   ]
  },
  {
   "cell_type": "markdown",
   "metadata": {
    "slideshow": {
     "slide_type": "slide"
    }
   },
   "source": [
    "## Outline"
   ]
  },
  {
   "cell_type": "markdown",
   "metadata": {
    "slideshow": {
     "slide_type": "fragment"
    }
   },
   "source": [
    "* Introduction to Data Science\n",
    "* Difference among \n",
    "    * Artificial Intelligience (AI)\n",
    "    * Machine Learning (ML)\n",
    "    * Deep Learning (DL)\n",
    "    * Reinforcement Learning (RL)\n",
    "* Sub-domains in Data Science\n",
    "* Should I choose Data Science as career path - but...!?\n",
    "* Job roles in Data Science domain\n",
    "* Much needed ingridient: skill-set \n",
    "* Let's align: skill-set and job roles\n",
    "* Acquire skill-set: Schedule and Projects\n",
    "* Dilemma: Certification or Projects\n",
    "* Tips\n",
    "* All learning resources"
   ]
  },
  {
   "cell_type": "markdown",
   "metadata": {
    "slideshow": {
     "slide_type": "slide"
    }
   },
   "source": [
    "## Introduction to Data Science"
   ]
  },
  {
   "cell_type": "markdown",
   "metadata": {
    "slideshow": {
     "slide_type": "fragment"
    }
   },
   "source": [
    "“This scientific way of analysing data or extracting knowledge out of data is called Data science.”"
   ]
  },
  {
   "cell_type": "markdown",
   "metadata": {
    "slideshow": {
     "slide_type": "fragment"
    }
   },
   "source": [
    "“Data science is all about making sense out of the data or extracting the knowledge from the data using data science techniques.”\n"
   ]
  },
  {
   "cell_type": "markdown",
   "metadata": {
    "slideshow": {
     "slide_type": "fragment"
    }
   },
   "source": [
    "“Data science, also known as data-driven science, is an interdisciplinary field about scientific methods, processes, and systems to extract knowledge or insights from data in various forms, either it is structured data, semi-structure data or unstructured data.”"
   ]
  },
  {
   "cell_type": "markdown",
   "metadata": {
    "slideshow": {
     "slide_type": "subslide"
    }
   },
   "source": [
    "<img src=\"https://raw.githubusercontent.com/jalajthanaki/Get_Jobs_in_Data_Science/master/imgs/Figure_1.png\" \n",
    "align=\"middle\" alt=\"Image_1\" data-canonical-src=\"\" style=\"width:70%;height:70%\">"
   ]
  },
  {
   "cell_type": "markdown",
   "metadata": {
    "slideshow": {
     "slide_type": "slide"
    }
   },
   "source": [
    "## Difference among AI, ML, DL and RL\n"
   ]
  },
  {
   "cell_type": "markdown",
   "metadata": {
    "slideshow": {
     "slide_type": "subslide"
    }
   },
   "source": [
    "<img src=\"https://raw.githubusercontent.com/jalajthanaki/Get_Jobs_in_Data_Science/master/imgs/Figure_3.png\" \n",
    "align=\"middle\" alt=\"Image_3\" data-canonical-src=\"\" style=\"width:100%;height:100%\">"
   ]
  },
  {
   "cell_type": "markdown",
   "metadata": {
    "slideshow": {
     "slide_type": "subslide"
    }
   },
   "source": [
    "<img src=\"https://raw.githubusercontent.com/jalajthanaki/Get_Jobs_in_Data_Science/master/imgs/Figure_4.jpg\" \n",
    "align=\"middle\" alt=\"Image_4\" data-canonical-src=\"\" style=\"width:70%;height:60%\">"
   ]
  },
  {
   "cell_type": "markdown",
   "metadata": {
    "slideshow": {
     "slide_type": "slide"
    }
   },
   "source": [
    "## Sub-domains in Data Science\n"
   ]
  },
  {
   "cell_type": "markdown",
   "metadata": {
    "slideshow": {
     "slide_type": "subslide"
    }
   },
   "source": [
    "<img src=\"https://raw.githubusercontent.com/jalajthanaki/Get_Jobs_in_Data_Science/master/imgs/Figure_5.png\" \n",
    "align=\"middle\" alt=\"Image_5\" data-canonical-src=\"\" style=\"width:50%;height:50%\">"
   ]
  },
  {
   "cell_type": "markdown",
   "metadata": {
    "slideshow": {
     "slide_type": "slide"
    }
   },
   "source": [
    "## Should I choose Data Science as career path - but...!?\n"
   ]
  },
  {
   "cell_type": "markdown",
   "metadata": {
    "slideshow": {
     "slide_type": "subslide"
    }
   },
   "source": [
    "* Anyone form **STEM** : Science, Technology, Engeineering and Mathematics"
   ]
  },
  {
   "cell_type": "markdown",
   "metadata": {
    "slideshow": {
     "slide_type": "slide"
    }
   },
   "source": [
    "## Job roles in Data Science domain\n"
   ]
  },
  {
   "cell_type": "markdown",
   "metadata": {
    "slideshow": {
     "slide_type": "subslide"
    }
   },
   "source": [
    "* Data Analyst\n",
    "\n",
    "* Business Analyst \n",
    "\n",
    "* Data Engineer\n",
    "\n",
    "* Machine Learning Engineer\n",
    "\n",
    "* Dev-Ops Engineer\n",
    "\n",
    "* Big Data Engineer\n",
    "\n",
    "* Data Scientist\n",
    "\n",
    "* Data Solution Architect \n",
    "\n",
    "* Data Science Consultant\n",
    "\n",
    "* Data Science Strategist\n",
    "\n",
    "* Data Science Manager\n",
    "\n",
    "* Data Science Head / Chief Data Officer"
   ]
  },
  {
   "cell_type": "markdown",
   "metadata": {
    "slideshow": {
     "slide_type": "slide"
    }
   },
   "source": [
    "## Much needed ingridient: skill-set"
   ]
  },
  {
   "cell_type": "markdown",
   "metadata": {
    "slideshow": {
     "slide_type": "subslide"
    }
   },
   "source": [
    "### Basic Skills\n",
    "* How to search on Google: \"Google is your Friend...!\"\n",
    "* OS: Linux \n",
    "* Math skills\n",
    "\n",
    "    * Basic concepts of Linear Algebra\n",
    "    * Basic concepts of Statistics / Probability\n",
    "    * Basic concepts of Calculus\n",
    "    \n",
    "* Programing Skills\n",
    "    \n",
    "    * Basic concepts of Python or R\n",
    "    * Basic concepts of Data Structure and ALgorithms\n",
    "    \n",
    "* Basic Programming Libraries\n",
    "\n",
    "    * Numpy / Scipy - Scientific Calculation libraries\n",
    "    * Pandas - For data manipulation\n",
    "    * Matplotlib - For data visualization\n",
    "    * GitHub - For version control / Code management \n",
    "    \n",
    "* Visualization \n",
    "* Story-telling"
   ]
  },
  {
   "cell_type": "markdown",
   "metadata": {
    "slideshow": {
     "slide_type": "subslide"
    }
   },
   "source": [
    "### Intermediate\n",
    " \n",
    "* Math Skills\n",
    "    * Intermediate concepts of Linear ALgebra\n",
    "    * Intermediate concepts of Statistics / Probability\n",
    "    * Intermediate concepts of Calculus\n",
    "\n",
    "* Programing Skills\n",
    "    * Object oriented concepts of Python\n",
    "    * Unit Test cases in python\n",
    "\n",
    "* ML Skills\n",
    "    * Understand basics of ML algorithms\n",
    "    * Learn about Exploratory Data Analysis (EDA) via small projects\n",
    "    * Implementation of ML algorithms:  Scikit-Learn or Numpy\n",
    "    * Basic about Feature Engineering and Feature Selection\n",
    "\n",
    "* DS Sub-domain specific skiils\n",
    "    * NLP\n",
    "        * Algorithms for NLP\n",
    "        * linguistic\n",
    "        * NLP libraries\n",
    "        \n",
    "    * Computer Vision\n",
    "        * Algorithms for CV\n",
    "        * CV libraries\n",
    "        "
   ]
  },
  {
   "cell_type": "markdown",
   "metadata": {
    "slideshow": {
     "slide_type": "subslide"
    }
   },
   "source": [
    "### Advance\n",
    "\n",
    "\n",
    "* Math Skills\n",
    "    * Advance statistical techniques\n",
    "    * Concepts of Information Theory\n",
    "* Programming Skill\n",
    "    * Design Pattern\n",
    "* ML optimization\n",
    "    * Feature Engineering\n",
    "    * Hyper Parameter Tunning\n",
    "    * AutoML\n",
    "    * Start with DL\n",
    "        * Understand various DL algorithms\n",
    "        * Implement DL algos using libraries like TensorFLow and PyTorch\n",
    "* Cloud Platform\n",
    "    * AWS\n",
    "    * Google Cloud\n",
    "    \n",
    "* Big data toolkit\n",
    "    * Haddop\n",
    "    * Spark\n",
    "    * Flink\n",
    "    * Flume\n"
   ]
  },
  {
   "cell_type": "markdown",
   "metadata": {
    "slideshow": {
     "slide_type": "slide"
    }
   },
   "source": [
    "##  Let's align: skill-set and job roles"
   ]
  },
  {
   "cell_type": "markdown",
   "metadata": {
    "slideshow": {
     "slide_type": "subslide"
    }
   },
   "source": [
    "<img src=\"https://raw.githubusercontent.com/jalajthanaki/Get_Jobs_in_Data_Science/master/imgs/Figure_6.jpg\" \n",
    "align=\"middle\" alt=\"Image_6\" data-canonical-src=\"\" style=\"width:100%;height:100%\">"
   ]
  },
  {
   "cell_type": "markdown",
   "metadata": {
    "slideshow": {
     "slide_type": "subslide"
    }
   },
   "source": [
    "<img src=\"https://raw.githubusercontent.com/jalajthanaki/Get_Jobs_in_Data_Science/master/imgs/Figure_7.jpg\" \n",
    "align=\"middle\" alt=\"Image_7\" data-canonical-src=\"\" style=\"width:100%;height:100%\">"
   ]
  },
  {
   "cell_type": "markdown",
   "metadata": {
    "slideshow": {
     "slide_type": "subslide"
    }
   },
   "source": [
    "<img src=\"https://raw.githubusercontent.com/jalajthanaki/Get_Jobs_in_Data_Science/master/imgs/Figure_8.jpg\" \n",
    "align=\"middle\" alt=\"Image_8\" data-canonical-src=\"\" style=\"width:100%;height:100%\">"
   ]
  },
  {
   "cell_type": "markdown",
   "metadata": {
    "slideshow": {
     "slide_type": "subslide"
    }
   },
   "source": [
    "<img src=\"https://raw.githubusercontent.com/jalajthanaki/Get_Jobs_in_Data_Science/master/imgs/Figure_9.jpg\" \n",
    "align=\"middle\" alt=\"Image_9\" data-canonical-src=\"\" style=\"width:100%;height:100%\">"
   ]
  },
  {
   "cell_type": "markdown",
   "metadata": {
    "slideshow": {
     "slide_type": "subslide"
    }
   },
   "source": [
    "<img src=\"https://raw.githubusercontent.com/jalajthanaki/Get_Jobs_in_Data_Science/master/imgs/Figure_10.jpg\" \n",
    "align=\"middle\" alt=\"Image_10\" data-canonical-src=\"\" style=\"width:100%;height:100%\">"
   ]
  },
  {
   "cell_type": "markdown",
   "metadata": {
    "slideshow": {
     "slide_type": "subslide"
    }
   },
   "source": [
    "<img src=\"https://raw.githubusercontent.com/jalajthanaki/Get_Jobs_in_Data_Science/master/imgs/Figure_11.jpg\" \n",
    "align=\"middle\" alt=\"Image_11\" data-canonical-src=\"\" style=\"width:100%;height:100%\">"
   ]
  },
  {
   "cell_type": "markdown",
   "metadata": {
    "slideshow": {
     "slide_type": "subslide"
    }
   },
   "source": [
    "<img src=\"https://raw.githubusercontent.com/jalajthanaki/Get_Jobs_in_Data_Science/master/imgs/Figure_12.jpg\" \n",
    "align=\"middle\" alt=\"Image_12\" data-canonical-src=\"\" style=\"width:100%;height:100%\">"
   ]
  },
  {
   "cell_type": "markdown",
   "metadata": {
    "slideshow": {
     "slide_type": "subslide"
    }
   },
   "source": [
    "<img src=\"https://raw.githubusercontent.com/jalajthanaki/Get_Jobs_in_Data_Science/master/imgs/Figure_13.jpg\" \n",
    "align=\"middle\" alt=\"Image_13\" data-canonical-src=\"\" style=\"width:100%;height:100%\">"
   ]
  },
  {
   "cell_type": "markdown",
   "metadata": {
    "slideshow": {
     "slide_type": "subslide"
    }
   },
   "source": [
    "<img src=\"https://raw.githubusercontent.com/jalajthanaki/Get_Jobs_in_Data_Science/master/imgs/Figure_14.png\" \n",
    "align=\"middle\" alt=\"Image_14\" data-canonical-src=\"\" style=\"width:100%;height:100%\">"
   ]
  },
  {
   "cell_type": "markdown",
   "metadata": {
    "slideshow": {
     "slide_type": "slide"
    }
   },
   "source": [
    "## Acquire skill-set: Schedule and Projects"
   ]
  },
  {
   "cell_type": "markdown",
   "metadata": {
    "slideshow": {
     "slide_type": "subslide"
    }
   },
   "source": [
    "12 Months:"
   ]
  },
  {
   "cell_type": "markdown",
   "metadata": {
    "slideshow": {
     "slide_type": "subslide"
    }
   },
   "source": []
  },
  {
   "cell_type": "markdown",
   "metadata": {
    "slideshow": {
     "slide_type": "subslide"
    }
   },
   "source": [
    "9 Months:"
   ]
  },
  {
   "cell_type": "markdown",
   "metadata": {
    "slideshow": {
     "slide_type": "subslide"
    }
   },
   "source": []
  },
  {
   "cell_type": "markdown",
   "metadata": {
    "slideshow": {
     "slide_type": "subslide"
    }
   },
   "source": [
    "6 Months:"
   ]
  },
  {
   "cell_type": "markdown",
   "metadata": {
    "slideshow": {
     "slide_type": "subslide"
    }
   },
   "source": []
  },
  {
   "cell_type": "markdown",
   "metadata": {
    "slideshow": {
     "slide_type": "subslide"
    }
   },
   "source": [
    "3 Months:"
   ]
  },
  {
   "cell_type": "markdown",
   "metadata": {
    "slideshow": {
     "slide_type": "subslide"
    }
   },
   "source": []
  },
  {
   "cell_type": "markdown",
   "metadata": {
    "slideshow": {
     "slide_type": "subslide"
    }
   },
   "source": [
    "### Example Projects"
   ]
  },
  {
   "cell_type": "markdown",
   "metadata": {
    "slideshow": {
     "slide_type": "subslide"
    }
   },
   "source": [
    "* Market Segmentation\n",
    "* Credit Risk Modeling\n",
    "* Sales Prediction / Time Series Analysis\n",
    "* Sentiment Analysis\n",
    "* Summarization\n",
    "* Chatbot\n",
    "* OCR Tools\n",
    "* Digit Recognition\n",
    "* Object Detection\n",
    "* Face Recognition"
   ]
  },
  {
   "cell_type": "markdown",
   "metadata": {
    "slideshow": {
     "slide_type": "slide"
    }
   },
   "source": [
    "## Dilemma: Certification or Projects"
   ]
  },
  {
   "cell_type": "markdown",
   "metadata": {
    "slideshow": {
     "slide_type": "fragment"
    }
   },
   "source": [
    "**Certification**\n",
    "\n",
    "* Important to acquire skill-set over certification\n",
    "* Certification provide you credibility and motivation\n",
    "\n",
    "**Projects**\n",
    "\n",
    "* Give you hands-on experience\n",
    "* Give you much more details about theoretical concepts"
   ]
  },
  {
   "cell_type": "markdown",
   "metadata": {
    "slideshow": {
     "slide_type": "slide"
    }
   },
   "source": [
    "## Tips: \n"
   ]
  },
  {
   "cell_type": "markdown",
   "metadata": {
    "slideshow": {
     "slide_type": "subslide"
    }
   },
   "source": [
    "\n",
    "### Resume writing"
   ]
  },
  {
   "cell_type": "markdown",
   "metadata": {
    "slideshow": {
     "slide_type": "fragment"
    }
   },
   "source": [
    "* To the point\n",
    "* Honest\n",
    "* Customized details \n",
    "    * based on job roles \n",
    "    * based on company profile\n",
    "* Max 2 pages"
   ]
  },
  {
   "cell_type": "markdown",
   "metadata": {
    "slideshow": {
     "slide_type": "subslide"
    }
   },
   "source": [
    "### Use Social Media Platform"
   ]
  },
  {
   "cell_type": "markdown",
   "metadata": {
    "slideshow": {
     "slide_type": "fragment"
    }
   },
   "source": [
    "* LinkedIn / Twitter: Keep **yourself up-to-date**\n",
    "* Subraddits: Give you **details about new tools and explanation about research papers**\n",
    "* GitHub: **Resume of new era** where you **put your work portfolio**\n",
    "* Share your knowledge with others"
   ]
  },
  {
   "cell_type": "markdown",
   "metadata": {
    "slideshow": {
     "slide_type": "subslide"
    }
   },
   "source": [
    "### Hiring Process\n",
    "\n",
    "\n",
    "    "
   ]
  },
  {
   "cell_type": "markdown",
   "metadata": {
    "slideshow": {
     "slide_type": "fragment"
    }
   },
   "source": [
    "* Really Company Specific\n",
    "* General Process\n",
    "    * Basic HR Screening\n",
    "    * Coding Interview \n",
    "    * ML/DL Interview\n",
    "    * Small Toy project\n",
    "    * Final round / Managerial round\n",
    "    * Get offer"
   ]
  },
  {
   "cell_type": "markdown",
   "metadata": {
    "slideshow": {
     "slide_type": "slide"
    }
   },
   "source": [
    "## All learning resources"
   ]
  },
  {
   "cell_type": "markdown",
   "metadata": {
    "slideshow": {
     "slide_type": "fragment"
    }
   },
   "source": [
    "* Learning resources are [available here](https://github.com/jalajthanaki/Get_Jobs_in_Data_Science/blob/master/All_Learning_Resources.ipynb)"
   ]
  },
  {
   "cell_type": "markdown",
   "metadata": {
    "slideshow": {
     "slide_type": "slide"
    }
   },
   "source": [
    "<img src=\"https://raw.githubusercontent.com/jalajthanaki/POS-tag-workshop/master/imgs/Image_1_5.jpg\" \n",
    "align=\"middle\" alt=\"Image_1_5\" data-canonical-src=\"\" style=\"width:60%;height:60%\">"
   ]
  },
  {
   "cell_type": "markdown",
   "metadata": {
    "slideshow": {
     "slide_type": "slide"
    }
   },
   "source": [
    "<img src=\"https://raw.githubusercontent.com/jalajthanaki/POS-tag-workshop/master/imgs/Image_1_6.png\" \n",
    "align=\"middle\" alt=\"Image_1_6\" data-canonical-src=\"\" style=\"width:80%;height:60%\">"
   ]
  }
 ],
 "metadata": {
  "kernelspec": {
   "display_name": "Python 3",
   "language": "python",
   "name": "python3"
  },
  "language_info": {
   "codemirror_mode": {
    "name": "ipython",
    "version": 3
   },
   "file_extension": ".py",
   "mimetype": "text/x-python",
   "name": "python",
   "nbconvert_exporter": "python",
   "pygments_lexer": "ipython3",
   "version": "3.6.5"
  },
  "toc": {
   "base_numbering": 1,
   "nav_menu": {},
   "number_sections": false,
   "sideBar": true,
   "skip_h1_title": true,
   "title_cell": "Table of Contents",
   "title_sidebar": "Contents",
   "toc_cell": false,
   "toc_position": {},
   "toc_section_display": true,
   "toc_window_display": false
  }
 },
 "nbformat": 4,
 "nbformat_minor": 2
}
