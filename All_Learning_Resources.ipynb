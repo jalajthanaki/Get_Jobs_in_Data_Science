{
 "cells": [
  {
   "cell_type": "markdown",
   "metadata": {},
   "source": [
    "# Learning Resources"
   ]
  },
  {
   "cell_type": "markdown",
   "metadata": {},
   "source": [
    "## Basic Computer Science Topics"
   ]
  },
  {
   "cell_type": "markdown",
   "metadata": {},
   "source": [
    "#### Python Resources\n",
    "\n",
    "* [Real Python](https://realpython.com/)\n",
    "* [Programiz](https://www.programiz.com/)"
   ]
  },
  {
   "cell_type": "markdown",
   "metadata": {},
   "source": [
    "#### Data Structure and Algorithm Analysis\n",
    "\n",
    "* [GeeksforGeeks](https://www.geeksforgeeks.org/)\n",
    "* [cracking the code interview](http://www.crackingthecodinginterview.com/)\n",
    "* [Book - cracking the code interview ](https://www.amazon.in/Cracking-Coding-Interview-Programming-Questions/dp/0984782850)\n",
    "* [The Algorithms python by TheAlgorithms](https://github.com/TheAlgorithms/Python)\n",
    "\n",
    "#### List of python Libraries\n",
    "* [Python libraries list by Vinta](https://github.com/vinta/awesome-python)"
   ]
  },
  {
   "cell_type": "markdown",
   "metadata": {},
   "source": [
    "#### Math Topics"
   ]
  },
  {
   "cell_type": "markdown",
   "metadata": {},
   "source": [
    "* [Awesome math resource by Rossant](https://github.com/rossant/awesome-math)"
   ]
  },
  {
   "cell_type": "markdown",
   "metadata": {},
   "source": [
    "#### Online-Education Platform\n",
    "\n",
    "* [Coursera](https://www.coursera.org/)\n",
    "* [Udacity](https://in.udacity.com/)\n",
    "* [Data Camp](https://www.datacamp.com/)\n",
    "* [Udemy](https://www.udemy.com/)\n",
    "* [Google AI](https://ai.google/education/)"
   ]
  },
  {
   "cell_type": "markdown",
   "metadata": {},
   "source": [
    "## Get the Data Set "
   ]
  },
  {
   "cell_type": "markdown",
   "metadata": {},
   "source": [
    "* [Google Dataset Search](https://toolbox.google.com/datasetsearch)\n",
    "* [Kaggel](https://www.kaggle.com/datasets?sortBy=votes&group=all)\n",
    "* [UCI Machine Learning](https://archive.ics.uci.edu/ml/datasets.html)"
   ]
  },
  {
   "cell_type": "markdown",
   "metadata": {},
   "source": [
    "## Basic libraries / Analytics domain specific libraries"
   ]
  },
  {
   "cell_type": "markdown",
   "metadata": {},
   "source": [
    "__Numpy / Scipy__\n",
    "    \n",
    " * [Python Numpy Tutorial](http://cs231n.github.io/python-numpy-tutorial/)\n",
    " * [Numpy DOcumentation](https://docs.scipy.org/doc/numpy/user/quickstart.html)\n",
    " * [Scipy Documentation](https://docs.scipy.org/doc/scipy-1.1.0/reference/tutorial/index.html)\n",
    "\n",
    "__pandas__\n",
    "\n",
    "* [Pandas Cookbook](https://github.com/PacktPublishing/Pandas-Cookbook)\n",
    "* [Pandas DataQuest](https://www.dataquest.io/blog/pandas-python-tutorial/)\n",
    "* [Pandas DataCamp](https://www.datacamp.com/community/tutorials/pandas-tutorial-dataframe-python)\n",
    "\n",
    "__matplotlib for visualization__\n",
    "\n",
    "* [matplotlib examples](https://matplotlib.org/examples/index.html)\n",
    "\n",
    "__Seaborn for visualization__\n",
    "\n",
    "* [Seaborn examples](https://seaborn.pydata.org/tutorial.html)\n",
    "* [Seaborn Tutorial](https://www.kaggle.com/kanncaa1/seaborn-tutorial-for-beginners)"
   ]
  },
  {
   "cell_type": "markdown",
   "metadata": {},
   "source": [
    "## NLP domain specific libraries"
   ]
  },
  {
   "cell_type": "markdown",
   "metadata": {},
   "source": [
    "* [Stanford NLP tools](https://nlp.stanford.edu/software/index.shtml)\n",
    "* [Stanford CoreNLP](http://corenlp.run/)\n",
    "* [Pycorenlp](https://github.com/smilli/py-corenlp)\n",
    "* [polyglot](https://polyglot.readthedocs.io/en/latest/)\n",
    "* [Spacy](https://spacy.io/)\n",
    "* [gensim](https://radimrehurek.com/gensim/)"
   ]
  },
  {
   "cell_type": "markdown",
   "metadata": {},
   "source": [
    "## CV domain specific Resource"
   ]
  },
  {
   "cell_type": "markdown",
   "metadata": {},
   "source": [
    "* [PyimageSearch](https://www.pyimagesearch.com/)"
   ]
  },
  {
   "cell_type": "markdown",
   "metadata": {},
   "source": [
    "## ML / DL algorithm specific libraries"
   ]
  },
  {
   "cell_type": "markdown",
   "metadata": {},
   "source": [
    "* [Scikit-Learn](https://github.com/amueller/scipy-2016-sklearn)\n",
    "* [Tensorflow](https://www.tensorflow.org/guide/)\n",
    "* [Pytorch](https://pytorch.org/docs/stable/index.html)"
   ]
  },
  {
   "cell_type": "markdown",
   "metadata": {},
   "source": [
    "## Certification"
   ]
  },
  {
   "cell_type": "markdown",
   "metadata": {},
   "source": [
    "* [ML course by Andrew NG](https://pytorch.org/docs/stable/index.html)\n",
    "* [ML/DL video by Siraj Raval](https://www.youtube.com/channel/UCWN3xxRkmTPmbKwht9FuE5A/playlists)\n",
    "* [Udacity ML Course](https://www.youtube.com/watch?v=ICKBWIkfeJ8&list=PLAwxTw4SYaPkQXg8TkVdIvYv4HfLG7SiH)\n",
    "\n",
    "\n"
   ]
  },
  {
   "cell_type": "markdown",
   "metadata": {},
   "source": [
    "## Keep yourself Up-to-date"
   ]
  },
  {
   "cell_type": "markdown",
   "metadata": {},
   "source": [
    "**Sub-reddits**\n",
    "\n",
    "* [MachineLearning](https://www.reddit.com/r/MachineLearning/)\n",
    "* [Machine Learns](https://www.reddit.com/r/MachinesLearn/)\n",
    "* [ML questions](https://www.reddit.com/r/MLQuestions/)\n",
    "* [Data Visualization](https://www.reddit.com/r/dataisbeautiful/)\n",
    "* [Deep Learning](https://www.reddit.com/r/deeplearning/)\n",
    "* [Deep Learning Papers](https://www.reddit.com/r/DeepLearningPapers/)\n",
    "* [Python subreddit](https://www.reddit.com/r/Python/)"
   ]
  },
  {
   "cell_type": "markdown",
   "metadata": {},
   "source": [
    "**Medium Blogs**\n",
    "\n",
    "* [Towards Data Science](https://towardsdatascience.com/?gi=e16feb024ea)\n",
    "* [Hackernoon](https://hackernoon.com/?gi=55c1a5572435)\n"
   ]
  },
  {
   "cell_type": "markdown",
   "metadata": {},
   "source": [
    "#### Interview questions"
   ]
  },
  {
   "cell_type": "markdown",
   "metadata": {},
   "source": [
    "* [Acing AI interview Blogs](https://medium.com/acing-ai/acing-ai-interviews/home)"
   ]
  },
  {
   "cell_type": "markdown",
   "metadata": {},
   "source": [
    "### Projects\n",
    "\n",
    "* [DS projects by Jalaj Thanaki](https://github.com/jalajthanaki)\n",
    "* [DS projects by Siraj Raval](https://github.com/llSourcell/)"
   ]
  }
 ],
 "metadata": {
  "kernelspec": {
   "display_name": "Python 3",
   "language": "python",
   "name": "python3"
  },
  "language_info": {
   "codemirror_mode": {
    "name": "ipython",
    "version": 3
   },
   "file_extension": ".py",
   "mimetype": "text/x-python",
   "name": "python",
   "nbconvert_exporter": "python",
   "pygments_lexer": "ipython3",
   "version": "3.6.5"
  },
  "toc": {
   "base_numbering": 1,
   "nav_menu": {},
   "number_sections": false,
   "sideBar": true,
   "skip_h1_title": false,
   "title_cell": "Table of Contents",
   "title_sidebar": "Contents",
   "toc_cell": false,
   "toc_position": {},
   "toc_section_display": true,
   "toc_window_display": false
  }
 },
 "nbformat": 4,
 "nbformat_minor": 2
}
